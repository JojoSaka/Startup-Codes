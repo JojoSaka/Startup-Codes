{
  "cells": [
    {
      "cell_type": "markdown",
      "metadata": {
        "id": "view-in-github",
        "colab_type": "text"
      },
      "source": [
        "<a href=\"https://colab.research.google.com/github/JojoSaka/Startup-Codes/blob/main/Using%20SQL%20in%20Python%20for%20analysis.ipynb\" target=\"_parent\"><img src=\"https://colab.research.google.com/assets/colab-badge.svg\" alt=\"Open In Colab\"/></a>"
      ]
    },
    {
      "cell_type": "markdown",
      "metadata": {
        "id": "318773bd-1483-442b-941a-e0b50c2779ce"
      },
      "source": [
        "<center>\n",
        "    <img src=\"https://cf-courses-data.s3.us.cloud-object-storage.appdomain.cloud/IBMDeveloperSkillsNetwork-DB0201EN-SkillsNetwork/labs/FinalModule_Coursera_V5/images/SN_web_lightmode.png\" width=\"300\" alt=\"cognitiveclass.ai logo\">\n",
        "</center>\n",
        "\n",
        "<h1 align=center><font size = 5>Assignment: Notebook for Peer Assignment</font></h1>\n"
      ]
    },
    {
      "cell_type": "markdown",
      "metadata": {
        "id": "5f9bfdb6-4c70-4819-96dc-371bbef5aff4"
      },
      "source": [
        "# Introduction\n",
        "\n",
        "Using this Python notebook you will:\n",
        "\n",
        "1.  Understand three Chicago datasets\n",
        "2.  Load the three datasets into three tables in a SQLIte database\n",
        "3.  Execute SQL queries to answer assignment questions\n"
      ]
    },
    {
      "cell_type": "markdown",
      "metadata": {
        "id": "00ebea22-6e78-409d-97be-43008968e7f3"
      },
      "source": [
        "## Understand the datasets\n",
        "\n",
        "To complete the assignment problems in this notebook you will be using three datasets that are available on the city of Chicago's Data Portal:\n",
        "\n",
        "1.  <a href=\"https://data.cityofchicago.org/Health-Human-Services/Census-Data-Selected-socioeconomic-indicators-in-C/kn9c-c2s2?utm_medium=Exinfluencer&utm_source=Exinfluencer&utm_content=000026UJ&utm_term=10006555&utm_id=NA-SkillsNetwork-Channel-SkillsNetworkCoursesIBMDeveloperSkillsNetworkDB0201ENSkillsNetwork20127838-2021-01-01\">Socioeconomic Indicators in Chicago</a>\n",
        "2.  <a href=\"https://data.cityofchicago.org/Education/Chicago-Public-Schools-Progress-Report-Cards-2011-/9xs2-f89t?utm_medium=Exinfluencer&utm_source=Exinfluencer&utm_content=000026UJ&utm_term=10006555&utm_id=NA-SkillsNetwork-Channel-SkillsNetworkCoursesIBMDeveloperSkillsNetworkDB0201ENSkillsNetwork20127838-2021-01-01\">Chicago Public Schools</a>\n",
        "3.  <a href=\"https://data.cityofchicago.org/Public-Safety/Crimes-2001-to-present/ijzp-q8t2?utm_medium=Exinfluencer&utm_source=Exinfluencer&utm_content=000026UJ&utm_term=10006555&utm_id=NA-SkillsNetwork-Channel-SkillsNetworkCoursesIBMDeveloperSkillsNetworkDB0201ENSkillsNetwork20127838-2021-01-01\">Chicago Crime Data</a>\n",
        "\n",
        "### 1. Socioeconomic Indicators in Chicago\n",
        "\n",
        "This dataset contains a selection of six socioeconomic indicators of public health significance and a “hardship index,” for each Chicago community area, for the years 2008 – 2012.\n",
        "\n",
        "A detailed description of this dataset and the original dataset can be obtained from the Chicago Data Portal at:\n",
        "[https://data.cityofchicago.org/Health-Human-Services/Census-Data-Selected-socioeconomic-indicators-in-C/kn9c-c2s2](https://data.cityofchicago.org/Health-Human-Services/Census-Data-Selected-socioeconomic-indicators-in-C/kn9c-c2s2?utm_medium=Exinfluencer&utm_source=Exinfluencer&utm_content=000026UJ&utm_term=10006555&utm_id=NA-SkillsNetwork-Channel-SkillsNetworkCoursesIBMDeveloperSkillsNetworkDB0201ENSkillsNetwork20127838-2021-01-01&cm_mmc=Email_Newsletter-_-Developer_Ed%2BTech-_-WW_WW-_-SkillsNetwork-Courses-IBMDeveloperSkillsNetwork-DB0201EN-SkillsNetwork-20127838&cm_mmca1=000026UJ&cm_mmca2=10006555&cm_mmca3=M12345678&cvosrc=email.Newsletter.M12345678&cvo_campaign=000026UJ)\n",
        "\n",
        "### 2. Chicago Public Schools\n",
        "\n",
        "This dataset shows all school level performance data used to create CPS School Report Cards for the 2011-2012 school year. This dataset is provided by the city of Chicago's Data Portal.\n",
        "\n",
        "A detailed description of this dataset and the original dataset can be obtained from the Chicago Data Portal at:\n",
        "[https://data.cityofchicago.org/Education/Chicago-Public-Schools-Progress-Report-Cards-2011-/9xs2-f89t](https://data.cityofchicago.org/Education/Chicago-Public-Schools-Progress-Report-Cards-2011-/9xs2-f89t?utm_medium=Exinfluencer&utm_source=Exinfluencer&utm_content=000026UJ&utm_term=10006555&utm_id=NA-SkillsNetwork-Channel-SkillsNetworkCoursesIBMDeveloperSkillsNetworkDB0201ENSkillsNetwork20127838-2021-01-01&cm_mmc=Email_Newsletter-_-Developer_Ed%2BTech-_-WW_WW-_-SkillsNetwork-Courses-IBMDeveloperSkillsNetwork-DB0201EN-SkillsNetwork-20127838&cm_mmca1=000026UJ&cm_mmca2=10006555&cm_mmca3=M12345678&cvosrc=email.Newsletter.M12345678&cvo_campaign=000026UJ)\n",
        "\n",
        "### 3. Chicago Crime Data\n",
        "\n",
        "This dataset reflects reported incidents of crime (with the exception of murders where data exists for each victim) that occurred in the City of Chicago from 2001 to present, minus the most recent seven days.\n",
        "\n",
        "A detailed description of this dataset and the original dataset can be obtained from the Chicago Data Portal at:\n",
        "[https://data.cityofchicago.org/Public-Safety/Crimes-2001-to-present/ijzp-q8t2](https://data.cityofchicago.org/Public-Safety/Crimes-2001-to-present/ijzp-q8t2?utm_medium=Exinfluencer&utm_source=Exinfluencer&utm_content=000026UJ&utm_term=10006555&utm_id=NA-SkillsNetwork-Channel-SkillsNetworkCoursesIBMDeveloperSkillsNetworkDB0201ENSkillsNetwork20127838-2021-01-01&cm_mmc=Email_Newsletter-_-Developer_Ed%2BTech-_-WW_WW-_-SkillsNetwork-Courses-IBMDeveloperSkillsNetwork-DB0201EN-SkillsNetwork-20127838&cm_mmca1=000026UJ&cm_mmca2=10006555&cm_mmca3=M12345678&cvosrc=email.Newsletter.M12345678&cvo_campaign=000026UJ)\n"
      ]
    },
    {
      "cell_type": "markdown",
      "metadata": {
        "id": "8b8345bf-5df1-4b54-9d0c-1c5c1ec98aa3"
      },
      "source": [
        "### Download the datasets\n",
        "\n",
        "This assignment requires you to have these three tables populated with a subset of the whole datasets.\n",
        "\n",
        "In many cases the dataset to be analyzed is available as a .CSV (comma separated values) file, perhaps on the internet. Click on the links below to download and save the datasets (.CSV files):\n",
        "\n",
        "*   <a href=\"https://cf-courses-data.s3.us.cloud-object-storage.appdomain.cloud/IBMDeveloperSkillsNetwork-DB0201EN-SkillsNetwork/labs/FinalModule_Coursera_V5/data/ChicagoCensusData.csv?utm_medium=Exinfluencer&utm_source=Exinfluencer&utm_content=000026UJ&utm_term=10006555&utm_id=NA-SkillsNetwork-Channel-SkillsNetworkCoursesIBMDeveloperSkillsNetworkDB0201ENSkillsNetwork20127838-2021-01-01\" target=\"_blank\">Chicago Census Data</a>\n",
        "\n",
        "*   <a href=\"https://cf-courses-data.s3.us.cloud-object-storage.appdomain.cloud/IBMDeveloperSkillsNetwork-DB0201EN-SkillsNetwork/labs/FinalModule_Coursera_V5/data/ChicagoPublicSchools.csv?utm_medium=Exinfluencer&utm_source=Exinfluencer&utm_content=000026UJ&utm_term=10006555&utm_id=NA-SkillsNetwork-Channel-SkillsNetworkCoursesIBMDeveloperSkillsNetworkDB0201ENSkillsNetwork20127838-2021-01-01\" target=\"_blank\">Chicago Public Schools</a>\n",
        "\n",
        "*   <a href=\"https://cf-courses-data.s3.us.cloud-object-storage.appdomain.cloud/IBMDeveloperSkillsNetwork-DB0201EN-SkillsNetwork/labs/FinalModule_Coursera_V5/data/ChicagoCrimeData.csv?utm_medium=Exinfluencer&utm_source=Exinfluencer&utm_content=000026UJ&utm_term=10006555&utm_id=NA-SkillsNetwork-Channel-SkillsNetworkCoursesIBMDeveloperSkillsNetworkDB0201ENSkillsNetwork20127838-2021-01-01\" target=\"_blank\">Chicago Crime Data</a>\n",
        "\n",
        "**NOTE:** Ensure you have downloaded the datasets using the links above instead of directly from the Chicago Data Portal. The versions linked here are subsets of the original datasets and have some of the column names modified to be more database friendly which will make it easier to complete this assignment.\n"
      ]
    },
    {
      "cell_type": "markdown",
      "metadata": {
        "id": "275677a3-dea7-4d55-8566-4604f3cc0da7"
      },
      "source": [
        "### Store the datasets in database tables\n",
        "\n",
        "To analyze the data using SQL, it first needs to be loaded into SQLite DB.\n",
        "We will create three tables in as under:\n",
        "\n",
        "1.  **CENSUS_DATA**\n",
        "2.  **CHICAGO_PUBLIC_SCHOOLS**\n",
        "3.  **CHICAGO_CRIME_DATA**\n",
        "\n",
        "Let us now load the ipython-sql  extension and establish a connection with the database\n",
        "\n",
        "* Here you will be loading the csv files into the pandas Dataframe and then loading the data into the above mentioned sqlite tables.\n",
        "\n",
        "* Next you will be connecting to the sqlite database  **FinalDB**.\n",
        "\n",
        "Refer to the previous lab for hints .\n",
        "\n",
        "<a href =\"https://cf-courses-data.s3.us.cloud-object-storage.appdomain.cloud/IBMDeveloperSkillsNetwork-DB0201EN-SkillsNetwork/labs/Module%205/DB0201EN-Week3-1-4-Analyzing_SQLite.ipynb\">Hands-on Lab: Analyzing a real World Data Set</a>\n",
        "\n",
        "\n",
        "\n"
      ]
    },
    {
      "cell_type": "code",
      "metadata": {
        "id": "031b63ca-45c1-4a8e-b37f-f1461c811145"
      },
      "outputs": [],
      "source": [
        "%load_ext sql"
      ],
      "execution_count": null
    },
    {
      "cell_type": "code",
      "metadata": {
        "id": "a56bc3a5-c126-410c-839b-8cc4cd11de62"
      },
      "outputs": [],
      "source": [
        "import pandas as pd\n",
        "import csv, sqlite3\n",
        "\n",
        "con = sqlite3.connect(\"CensusData.db\")\n",
        "cur = con.cursor()"
      ],
      "execution_count": null
    },
    {
      "cell_type": "code",
      "source": [
        "con1 = sqlite3.connect(\"ChicagoCrimeData.db\")\n",
        "cur1 = con1.cursor()"
      ],
      "metadata": {
        "id": "7DK_SM01eUcO"
      },
      "execution_count": null,
      "outputs": []
    },
    {
      "cell_type": "code",
      "source": [
        "con2 = sqlite3.connect(\"ChicagoPublicschoolsData.db\")\n",
        "cur2 = con2.cursor()"
      ],
      "metadata": {
        "id": "gluypTKCeUHb"
      },
      "execution_count": null,
      "outputs": []
    },
    {
      "cell_type": "code",
      "metadata": {
        "colab": {
          "base_uri": "https://localhost:8080/"
        },
        "id": "b28cec9a-d189-4599-8c5f-08924a38144e",
        "outputId": "6761fdb2-23ce-4086-ffff-8ecc00dd5253"
      },
      "outputs": [
        {
          "output_type": "stream",
          "name": "stdout",
          "text": [
            "  Installing build dependencies ... \u001b[?25l\u001b[?25hdone\n",
            "  Getting requirements to build wheel ... \u001b[?25l\u001b[?25hcanceled\n",
            "\u001b[31mERROR: Operation cancelled by user\u001b[0m\u001b[31m\n",
            "\u001b[0m"
          ]
        }
      ],
      "source": [
        "!pip install -q pandas==1.1.5"
      ],
      "execution_count": null
    },
    {
      "cell_type": "code",
      "metadata": {
        "id": "d81b5a66-4626-4698-a5a9-7326dbe8c491"
      },
      "outputs": [],
      "source": [
        "\n",
        "%sql sqlite:///CensusData.db\n"
      ],
      "execution_count": null
    },
    {
      "cell_type": "code",
      "source": [
        "%sql sqlite:///ChicagoCrimeData.db"
      ],
      "metadata": {
        "id": "Gu6wM72oesFl"
      },
      "execution_count": null,
      "outputs": []
    },
    {
      "cell_type": "code",
      "source": [
        "%sql sqlite:///ChicagoPublicschoolsData.db"
      ],
      "metadata": {
        "id": "jZ30RWQxer5e"
      },
      "execution_count": null,
      "outputs": []
    },
    {
      "cell_type": "code",
      "metadata": {
        "colab": {
          "base_uri": "https://localhost:8080/"
        },
        "id": "0c58785e-fe05-412c-9388-7912f317a1f4",
        "outputId": "5c77e3ae-827d-4a5f-dbc0-f410a09cc35a"
      },
      "outputs": [
        {
          "output_type": "execute_result",
          "data": {
            "text/plain": [
              "78"
            ]
          },
          "metadata": {},
          "execution_count": 47
        }
      ],
      "source": [
        "df = pd.read_csv('/content/ChicagoCensusData.csv')\n",
        "df.to_sql(\"Census_Data\", con, if_exists='replace', index=False,method=\"multi\")"
      ],
      "execution_count": null
    },
    {
      "cell_type": "code",
      "source": [
        "df1 = pd.read_csv('/content/ChicagoCrimeData.csv')\n",
        "df1.to_sql(\"Chicago_Crime_Data\", con1, if_exists='replace', index=False,method=\"multi\")"
      ],
      "metadata": {
        "colab": {
          "base_uri": "https://localhost:8080/"
        },
        "id": "v9qLgPJXe3_r",
        "outputId": "57a02557-13d0-45e9-ce80-d5ab47bdcc4a"
      },
      "execution_count": null,
      "outputs": [
        {
          "output_type": "execute_result",
          "data": {
            "text/plain": [
              "533"
            ]
          },
          "metadata": {},
          "execution_count": 50
        }
      ]
    },
    {
      "cell_type": "code",
      "source": [
        "df2 = pd.read_csv('/content/ChicagoPublicSchools.csv')\n",
        "df2.to_sql(\"Chicago_Puplicschools_Data\", con2, if_exists='replace', index=False,method=\"multi\")"
      ],
      "metadata": {
        "colab": {
          "base_uri": "https://localhost:8080/"
        },
        "id": "mE2J0gqXe3tw",
        "outputId": "124c1fa2-c849-4a7d-bbae-d982205dd5ab"
      },
      "execution_count": null,
      "outputs": [
        {
          "output_type": "execute_result",
          "data": {
            "text/plain": [
              "566"
            ]
          },
          "metadata": {},
          "execution_count": 42
        }
      ]
    },
    {
      "cell_type": "markdown",
      "metadata": {
        "id": "627e0974-5300-4374-b893-1c29df2b9f6e"
      },
      "source": [
        "## Problems\n",
        "\n",
        "Now write and execute SQL queries to solve assignment problems\n",
        "\n",
        "### Problem 1\n",
        "\n",
        "##### Find the total number of crimes recorded in the CRIME table.\n"
      ]
    },
    {
      "cell_type": "code",
      "source": [
        "%sql SELECT COUNT(*) FROM CHICAGO_CRIME_DATA;"
      ],
      "metadata": {
        "colab": {
          "base_uri": "https://localhost:8080/",
          "height": 112
        },
        "id": "W5u6YAv1oZX_",
        "outputId": "d5b35352-f1e5-4945-f888-227ededa0cbc"
      },
      "execution_count": null,
      "outputs": [
        {
          "output_type": "stream",
          "name": "stdout",
          "text": [
            "   sqlite:///CensusData.db\n",
            " * sqlite:///ChicagoCrimeData.db\n",
            "Done.\n"
          ]
        },
        {
          "output_type": "execute_result",
          "data": {
            "text/plain": [
              "[(533,)]"
            ],
            "text/html": [
              "<table>\n",
              "    <thead>\n",
              "        <tr>\n",
              "            <th>COUNT(*)</th>\n",
              "        </tr>\n",
              "    </thead>\n",
              "    <tbody>\n",
              "        <tr>\n",
              "            <td>533</td>\n",
              "        </tr>\n",
              "    </tbody>\n",
              "</table>"
            ]
          },
          "metadata": {},
          "execution_count": 27
        }
      ]
    },
    {
      "cell_type": "markdown",
      "metadata": {
        "id": "1f68e31e-22d1-4e74-8f7a-0608bfd4ba37"
      },
      "source": [
        "### Problem 2\n",
        "\n",
        "##### List community areas with per capita income less than 11000.\n"
      ]
    },
    {
      "cell_type": "code",
      "metadata": {
        "colab": {
          "base_uri": "https://localhost:8080/",
          "height": 158
        },
        "id": "d2ec74b4-05b6-429e-8d20-3a13cdce8967",
        "outputId": "99c01ecc-bfa1-41cf-ff17-db218c645ed1"
      },
      "outputs": [
        {
          "output_type": "stream",
          "name": "stdout",
          "text": [
            " * sqlite:///CensusData.db\n",
            "Done.\n"
          ]
        },
        {
          "output_type": "execute_result",
          "data": {
            "text/plain": [
              "[('West Garfield Park',),\n",
              " ('South Lawndale',),\n",
              " ('Fuller Park',),\n",
              " ('Riverdale',)]"
            ],
            "text/html": [
              "<table>\n",
              "    <thead>\n",
              "        <tr>\n",
              "            <th>COMMUNITY_AREA_NAME</th>\n",
              "        </tr>\n",
              "    </thead>\n",
              "    <tbody>\n",
              "        <tr>\n",
              "            <td>West Garfield Park</td>\n",
              "        </tr>\n",
              "        <tr>\n",
              "            <td>South Lawndale</td>\n",
              "        </tr>\n",
              "        <tr>\n",
              "            <td>Fuller Park</td>\n",
              "        </tr>\n",
              "        <tr>\n",
              "            <td>Riverdale</td>\n",
              "        </tr>\n",
              "    </tbody>\n",
              "</table>"
            ]
          },
          "metadata": {},
          "execution_count": 8
        }
      ],
      "source": [
        "%sql SELECT COMMUNITY_AREA_NAME FROM Census_Data WHERE PER_CAPITA_INCOME < 11000;"
      ],
      "execution_count": null
    },
    {
      "cell_type": "markdown",
      "metadata": {
        "id": "305c73bd-debb-4cc6-9e7c-1c176e119b8f"
      },
      "source": [
        "### Problem 3\n",
        "\n",
        "##### List all case numbers for crimes  involving minors?(children are not considered minors for the purposes of crime analysis)\n"
      ]
    },
    {
      "cell_type": "code",
      "metadata": {
        "colab": {
          "base_uri": "https://localhost:8080/",
          "height": 133
        },
        "id": "9752e7cd-3925-48b1-a014-d9966e9886e5",
        "outputId": "49565985-3687-4e98-c10c-7bf1ca0b211d"
      },
      "outputs": [
        {
          "output_type": "stream",
          "name": "stdout",
          "text": [
            "   sqlite:///CensusData.db\n",
            " * sqlite:///ChicagoCrimeData.db\n",
            "Done.\n"
          ]
        },
        {
          "output_type": "execute_result",
          "data": {
            "text/plain": [
              "[('HL266884',), ('HK238408',)]"
            ],
            "text/html": [
              "<table>\n",
              "    <thead>\n",
              "        <tr>\n",
              "            <th>CASE_NUMBER</th>\n",
              "        </tr>\n",
              "    </thead>\n",
              "    <tbody>\n",
              "        <tr>\n",
              "            <td>HL266884</td>\n",
              "        </tr>\n",
              "        <tr>\n",
              "            <td>HK238408</td>\n",
              "        </tr>\n",
              "    </tbody>\n",
              "</table>"
            ]
          },
          "metadata": {},
          "execution_count": 24
        }
      ],
      "source": [
        "%sql SELECT DISTINCT CASE_NUMBER FROM CHICAGO_CRIME_DATA WHERE DESCRIPTION LIKE '%MINOR%';"
      ],
      "execution_count": null
    },
    {
      "cell_type": "markdown",
      "metadata": {
        "id": "1d5bf837-17c9-448b-b7a5-2c5f4461b731"
      },
      "source": [
        "### Problem 4\n",
        "\n",
        "##### List all kidnapping crimes involving a child?\n"
      ]
    },
    {
      "cell_type": "code",
      "metadata": {
        "colab": {
          "base_uri": "https://localhost:8080/",
          "height": 112
        },
        "id": "beb39b92-f2a4-4e1b-9569-cb7227a52ece",
        "outputId": "e9e23fd5-8902-410a-8950-b358f4132e89"
      },
      "outputs": [
        {
          "output_type": "stream",
          "name": "stdout",
          "text": [
            "   sqlite:///CensusData.db\n",
            " * sqlite:///ChicagoCrimeData.db\n",
            "Done.\n"
          ]
        },
        {
          "output_type": "execute_result",
          "data": {
            "text/plain": [
              "[('HN144152', 'KIDNAPPING', '2007-01-26', 'CHILD ABDUCTION/STRANGER')]"
            ],
            "text/html": [
              "<table>\n",
              "    <thead>\n",
              "        <tr>\n",
              "            <th>CASE_NUMBER</th>\n",
              "            <th>PRIMARY_TYPE</th>\n",
              "            <th>DATE</th>\n",
              "            <th>DESCRIPTION</th>\n",
              "        </tr>\n",
              "    </thead>\n",
              "    <tbody>\n",
              "        <tr>\n",
              "            <td>HN144152</td>\n",
              "            <td>KIDNAPPING</td>\n",
              "            <td>2007-01-26</td>\n",
              "            <td>CHILD ABDUCTION/STRANGER</td>\n",
              "        </tr>\n",
              "    </tbody>\n",
              "</table>"
            ]
          },
          "metadata": {},
          "execution_count": 25
        }
      ],
      "source": [
        "%sql SELECT DISTINCT CASE_NUMBER, PRIMARY_TYPE, DATE, DESCRIPTION FROM CHICAGO_CRIME_DATA \\\n",
        "WHERE PRIMARY_TYPE='KIDNAPPING' babyaidan123!"
      ],
      "execution_count": null
    },
    {
      "cell_type": "markdown",
      "metadata": {
        "id": "199b0c88-f405-41e0-8087-34370c332e6a"
      },
      "source": [
        "### Problem 5\n",
        "\n",
        "##### What kinds of crimes were recorded at schools?\n"
      ]
    },
    {
      "cell_type": "code",
      "metadata": {
        "colab": {
          "base_uri": "https://localhost:8080/",
          "height": 280
        },
        "id": "bf201f1f-64e0-4b74-ab34-0dea7f68c269",
        "outputId": "55f72395-4a86-498d-d40a-c19c4f5da4fc"
      },
      "outputs": [
        {
          "output_type": "stream",
          "name": "stdout",
          "text": [
            "   sqlite:///CensusData.db\n",
            " * sqlite:///ChicagoCrimeData.db\n",
            "Done.\n"
          ]
        },
        {
          "output_type": "execute_result",
          "data": {
            "text/plain": [
              "[('BATTERY', 'SCHOOL, PUBLIC, GROUNDS'),\n",
              " ('BATTERY', 'SCHOOL, PUBLIC, BUILDING'),\n",
              " ('CRIMINAL DAMAGE', 'SCHOOL, PUBLIC, GROUNDS'),\n",
              " ('NARCOTICS', 'SCHOOL, PUBLIC, GROUNDS'),\n",
              " ('NARCOTICS', 'SCHOOL, PUBLIC, BUILDING'),\n",
              " ('ASSAULT', 'SCHOOL, PUBLIC, GROUNDS'),\n",
              " ('CRIMINAL TRESPASS', 'SCHOOL, PUBLIC, GROUNDS'),\n",
              " ('PUBLIC PEACE VIOLATION', 'SCHOOL, PRIVATE, BUILDING'),\n",
              " ('PUBLIC PEACE VIOLATION', 'SCHOOL, PUBLIC, BUILDING')]"
            ],
            "text/html": [
              "<table>\n",
              "    <thead>\n",
              "        <tr>\n",
              "            <th>PRIMARY_TYPE</th>\n",
              "            <th>LOCATION_DESCRIPTION</th>\n",
              "        </tr>\n",
              "    </thead>\n",
              "    <tbody>\n",
              "        <tr>\n",
              "            <td>BATTERY</td>\n",
              "            <td>SCHOOL, PUBLIC, GROUNDS</td>\n",
              "        </tr>\n",
              "        <tr>\n",
              "            <td>BATTERY</td>\n",
              "            <td>SCHOOL, PUBLIC, BUILDING</td>\n",
              "        </tr>\n",
              "        <tr>\n",
              "            <td>CRIMINAL DAMAGE</td>\n",
              "            <td>SCHOOL, PUBLIC, GROUNDS</td>\n",
              "        </tr>\n",
              "        <tr>\n",
              "            <td>NARCOTICS</td>\n",
              "            <td>SCHOOL, PUBLIC, GROUNDS</td>\n",
              "        </tr>\n",
              "        <tr>\n",
              "            <td>NARCOTICS</td>\n",
              "            <td>SCHOOL, PUBLIC, BUILDING</td>\n",
              "        </tr>\n",
              "        <tr>\n",
              "            <td>ASSAULT</td>\n",
              "            <td>SCHOOL, PUBLIC, GROUNDS</td>\n",
              "        </tr>\n",
              "        <tr>\n",
              "            <td>CRIMINAL TRESPASS</td>\n",
              "            <td>SCHOOL, PUBLIC, GROUNDS</td>\n",
              "        </tr>\n",
              "        <tr>\n",
              "            <td>PUBLIC PEACE VIOLATION</td>\n",
              "            <td>SCHOOL, PRIVATE, BUILDING</td>\n",
              "        </tr>\n",
              "        <tr>\n",
              "            <td>PUBLIC PEACE VIOLATION</td>\n",
              "            <td>SCHOOL, PUBLIC, BUILDING</td>\n",
              "        </tr>\n",
              "    </tbody>\n",
              "</table>"
            ]
          },
          "metadata": {},
          "execution_count": 26
        }
      ],
      "source": [
        "%sql SELECT DISTINCT(PRIMARY_TYPE), LOCATION_DESCRIPTION FROM CHICAGO_CRIME_DATA \\\n",
        "WHERE LOCATION_DESCRIPTION LIKE '%SCHOOL%';"
      ],
      "execution_count": null
    },
    {
      "cell_type": "markdown",
      "metadata": {
        "id": "028ad3f0-f268-4e11-9978-585e895ab51e"
      },
      "source": [
        "### Problem 6\n",
        "\n",
        "##### List the average safety score for each type of school.\n"
      ]
    },
    {
      "cell_type": "code",
      "metadata": {
        "colab": {
          "base_uri": "https://localhost:8080/",
          "height": 129
        },
        "id": "39807e32-1ec7-4a43-a963-95152913e17a",
        "outputId": "ea746783-bea8-4340-95c2-c492b05ca14d"
      },
      "outputs": [
        {
          "output_type": "stream",
          "name": "stdout",
          "text": [
            "   sqlite:///CensusData.db\n",
            "   sqlite:///ChicagoCrimeData.db\n",
            " * sqlite:///ChicagoPublicschoolsData.db\n",
            "Done.\n"
          ]
        },
        {
          "output_type": "execute_result",
          "data": {
            "text/plain": [
              "[('ES', 49.50487329434698)]"
            ],
            "text/html": [
              "<table>\n",
              "    <thead>\n",
              "        <tr>\n",
              "            <th>Elementary, Middle, or High School</th>\n",
              "            <th>AVERAGE_SAFETY_SCORE</th>\n",
              "        </tr>\n",
              "    </thead>\n",
              "    <tbody>\n",
              "        <tr>\n",
              "            <td>ES</td>\n",
              "            <td>49.50487329434698</td>\n",
              "        </tr>\n",
              "    </tbody>\n",
              "</table>"
            ]
          },
          "metadata": {},
          "execution_count": 44
        }
      ],
      "source": [
        "%sql SELECT \"Elementary, Middle, or High School\", AVG(SAFETY_SCORE) AVERAGE_SAFETY_SCORE FROM Chicago_Puplicschools_Data;"
      ],
      "execution_count": null
    },
    {
      "cell_type": "markdown",
      "metadata": {
        "id": "87b4eb74-e37e-4fe8-a6bc-ba216b396cdb"
      },
      "source": [
        "### Problem 7\n",
        "\n",
        "##### List 5 community areas with highest % of households below poverty line\n"
      ]
    },
    {
      "cell_type": "code",
      "metadata": {
        "colab": {
          "base_uri": "https://localhost:8080/",
          "height": 179
        },
        "id": "4e6f75f4-77af-44fc-be06-ed300b2d7448",
        "outputId": "8510921b-a31e-4f92-8747-2aefa83ff4a0"
      },
      "outputs": [
        {
          "output_type": "stream",
          "name": "stdout",
          "text": [
            " * sqlite:///CensusData.db\n",
            "Done.\n"
          ]
        },
        {
          "output_type": "execute_result",
          "data": {
            "text/plain": [
              "[('Riverdale', 56.5),\n",
              " ('Fuller Park', 51.2),\n",
              " ('Englewood', 46.6),\n",
              " ('North Lawndale', 43.1),\n",
              " ('East Garfield Park', 42.4)]"
            ],
            "text/html": [
              "<table>\n",
              "    <thead>\n",
              "        <tr>\n",
              "            <th>COMMUNITY_AREA_NAME</th>\n",
              "            <th>PERCENT_HOUSEHOLDS_BELOW_POVERTY</th>\n",
              "        </tr>\n",
              "    </thead>\n",
              "    <tbody>\n",
              "        <tr>\n",
              "            <td>Riverdale</td>\n",
              "            <td>56.5</td>\n",
              "        </tr>\n",
              "        <tr>\n",
              "            <td>Fuller Park</td>\n",
              "            <td>51.2</td>\n",
              "        </tr>\n",
              "        <tr>\n",
              "            <td>Englewood</td>\n",
              "            <td>46.6</td>\n",
              "        </tr>\n",
              "        <tr>\n",
              "            <td>North Lawndale</td>\n",
              "            <td>43.1</td>\n",
              "        </tr>\n",
              "        <tr>\n",
              "            <td>East Garfield Park</td>\n",
              "            <td>42.4</td>\n",
              "        </tr>\n",
              "    </tbody>\n",
              "</table>"
            ]
          },
          "metadata": {},
          "execution_count": 10
        }
      ],
      "source": [
        "%%sql SELECT COMMUNITY_AREA_NAME, PERCENT_HOUSEHOLDS_BELOW_POVERTY FROM Census_Data\n",
        "ORDER BY PERCENT_HOUSEHOLDS_BELOW_POVERTY DESC\n",
        "LIMIT 5;"
      ],
      "execution_count": null
    },
    {
      "cell_type": "markdown",
      "metadata": {
        "id": "81d501f2-a3da-4399-bcc4-4b50ced5429a"
      },
      "source": [
        "### Problem 8\n",
        "\n",
        "##### Which community area is most crime prone?\n"
      ]
    },
    {
      "cell_type": "code",
      "metadata": {
        "colab": {
          "base_uri": "https://localhost:8080/",
          "height": 112
        },
        "id": "76d26f69-9b84-4920-bd2d-d04b2825a3fa",
        "outputId": "84c6a28a-57ee-4e2b-94e5-ad7d6f4ba3ba"
      },
      "outputs": [
        {
          "output_type": "stream",
          "name": "stdout",
          "text": [
            "   sqlite:///CensusData.db\n",
            " * sqlite:///ChicagoCrimeData.db\n",
            "Done.\n"
          ]
        },
        {
          "output_type": "execute_result",
          "data": {
            "text/plain": [
              "[(25.0, 43)]"
            ],
            "text/html": [
              "<table>\n",
              "    <thead>\n",
              "        <tr>\n",
              "            <th>COMMUNITY_AREA_NUMBER</th>\n",
              "            <th>FREQUENCY</th>\n",
              "        </tr>\n",
              "    </thead>\n",
              "    <tbody>\n",
              "        <tr>\n",
              "            <td>25.0</td>\n",
              "            <td>43</td>\n",
              "        </tr>\n",
              "    </tbody>\n",
              "</table>"
            ]
          },
          "metadata": {},
          "execution_count": 30
        }
      ],
      "source": [
        "%%sql SELECT COMMUNITY_AREA_NUMBER ,COUNT(COMMUNITY_AREA_NUMBER) AS FREQUENCY FROM CHICAGO_CRIME_DATA\n",
        "GROUP BY COMMUNITY_AREA_NUMBER\n",
        "ORDER BY COUNT(COMMUNITY_AREA_NUMBER) DESC\n",
        "LIMIT 1;"
      ],
      "execution_count": null
    },
    {
      "cell_type": "markdown",
      "metadata": {
        "id": "b9e20a75-8bd8-419d-86e5-1a7637140832"
      },
      "source": [
        "Double-click **here** for a hint\n",
        "\n",
        "<!--\n",
        "Query for the 'community area number' that is most crime prone.\n",
        "-->\n"
      ]
    },
    {
      "cell_type": "markdown",
      "metadata": {
        "id": "40d2359c-505b-40e9-9945-608de6877f2a"
      },
      "source": [
        "### Problem 9\n",
        "\n",
        "##### Use a sub-query to find the name of the community area with highest hardship index\n"
      ]
    },
    {
      "cell_type": "code",
      "metadata": {
        "colab": {
          "base_uri": "https://localhost:8080/",
          "height": 95
        },
        "id": "c675c975-94f9-4923-8089-ea4bff55e3bf",
        "outputId": "b8d32566-3eeb-4515-8f4f-cc00a5ebd0f5"
      },
      "outputs": [
        {
          "output_type": "stream",
          "name": "stdout",
          "text": [
            " * sqlite:///CensusData.db\n",
            "Done.\n"
          ]
        },
        {
          "output_type": "execute_result",
          "data": {
            "text/plain": [
              "[('Riverdale',)]"
            ],
            "text/html": [
              "<table>\n",
              "    <thead>\n",
              "        <tr>\n",
              "            <th>COMMUNITY_AREA_NAME</th>\n",
              "        </tr>\n",
              "    </thead>\n",
              "    <tbody>\n",
              "        <tr>\n",
              "            <td>Riverdale</td>\n",
              "        </tr>\n",
              "    </tbody>\n",
              "</table>"
            ]
          },
          "metadata": {},
          "execution_count": 15
        }
      ],
      "source": [
        "%%sql SELECT COMMUNITY_AREA_NAME FROM Census_Data\n",
        "WHERE HARDSHIP_INDEX = (SELECT MAX(HARDSHIP_INDEX) FROM Census_Data);"
      ],
      "execution_count": null
    },
    {
      "cell_type": "markdown",
      "metadata": {
        "id": "d3a1ce88-0893-4b1c-a7fb-3735a3e9a78e"
      },
      "source": [
        "### Problem 10\n",
        "\n",
        "##### Use a sub-query to determine the Community Area Name with most number of crimes?\n"
      ]
    },
    {
      "cell_type": "code",
      "metadata": {
        "colab": {
          "base_uri": "https://localhost:8080/"
        },
        "id": "3569c57e-7de9-47dd-a4f1-f3fbef9a4d74",
        "outputId": "2179532d-0715-4f5b-f036-ca1661858edf"
      },
      "outputs": [
        {
          "output_type": "stream",
          "name": "stdout",
          "text": [
            "   sqlite:///CensusData.db\n",
            " * sqlite:///ChicagoCrimeData.db\n",
            "   sqlite:///ChicagoPublicschoolsData.db\n",
            "(sqlite3.OperationalError) no such table: CENSUS_DATA\n",
            "[SQL: SELECT COMMUNITY_AREA_NAME FROM CENSUS_DATA \n",
            "WHERE COMMUNITY_AREA_NUMBER = (SELECT COMMUNITY_AREA_NUMBER FROM CHICAGO_CRIME_DATA \n",
            "    GROUP BY COMMUNITY_AREA_NUMBER\n",
            "    ORDER BY COUNT(COMMUNITY_AREA_NUMBER) DESC\n",
            "    LIMIT 1);]\n",
            "(Background on this error at: https://sqlalche.me/e/20/e3q8)\n"
          ]
        }
      ],
      "source": [
        "%%sql\n",
        "SELECT COMMUNITY_AREA_NAME FROM CENSUS_DATA\n",
        "WHERE COMMUNITY_AREA_NUMBER = (SELECT COMMUNITY_AREA_NUMBER FROM CHICAGO_CRIME_DATA\n",
        "    GROUP BY COMMUNITY_AREA_NUMBER\n",
        "    ORDER BY COUNT(COMMUNITY_AREA_NUMBER) DESC\n",
        "    LIMIT 1);"
      ],
      "execution_count": null
    },
    {
      "cell_type": "markdown",
      "metadata": {
        "id": "62713fc4-e16b-4f5a-be18-8b3e370876b5"
      },
      "source": [
        "Copyright © 2020 This notebook and its source code are released under the terms of the [MIT License](https://bigdatauniversity.com/mit-license?utm_medium=Exinfluencer&utm_source=Exinfluencer&utm_content=000026UJ&utm_term=10006555&utm_id=NA-SkillsNetwork-Channel-SkillsNetworkCoursesIBMDeveloperSkillsNetworkDB0201ENSkillsNetwork20127838-2021-01-01&cm_mmc=Email_Newsletter-_-Developer_Ed%2BTech-_-WW_WW-_-SkillsNetwork-Courses-IBMDeveloperSkillsNetwork-DB0201EN-SkillsNetwork-20127838&cm_mmca1=000026UJ&cm_mmca2=10006555&cm_mmca3=M12345678&cvosrc=email.Newsletter.M12345678&cvo_campaign=000026UJ).\n"
      ]
    },
    {
      "cell_type": "markdown",
      "metadata": {
        "id": "bfc8bb7f-c7d8-4f67-91a6-c47efe969680"
      },
      "source": [
        "## Author(s)\n",
        "\n",
        "<h4> Hima Vasudevan </h4>\n",
        "<h4> Rav Ahuja </h4>\n",
        "<h4> Ramesh Sannreddy </h4>\n",
        "\n",
        "## Contribtuor(s)\n",
        "\n",
        "<h4> Malika Singla </h4>\n",
        "\n",
        "## Change log\n",
        "\n",
        "| Date       | Version | Changed by        | Change Description                             |\n",
        "| ---------- | ------- | ----------------- | ---------------------------------------------- |\n",
        "| 2022-03-04 | 2.5     | Lakshmi Holla     | Changed markdown.                   |\n",
        "| 2021-05-19 | 2.4     | Lakshmi Holla     | Updated the question                           |\n",
        "| 2021-04-30 | 2.3     | Malika Singla     | Updated the libraries                          |\n",
        "| 2021-01-15 | 2.2     | Rav Ahuja         | Removed problem 11 and fixed changelog         |\n",
        "| 2020-11-25 | 2.1     | Ramesh Sannareddy | Updated the problem statements, and datasets   |\n",
        "| 2020-09-05 | 2.0     | Malika Singla     | Moved lab to course repo in GitLab             |\n",
        "| 2018-07-18 | 1.0     | Rav Ahuja         | Several updates including loading instructions |\n",
        "| 2018-05-04 | 0.1     | Hima Vasudevan    | Created initial version                        |\n",
        "\n",
        "## <h3 align=\"center\"> © IBM Corporation 2020. All rights reserved. <h3/>\n"
      ]
    }
  ],
  "metadata": {
    "kernelspec": {
      "display_name": "Python",
      "language": "python",
      "name": "conda-env-python-py"
    },
    "language_info": {
      "name": ""
    },
    "colab": {
      "provenance": [],
      "include_colab_link": true
    }
  },
  "nbformat": 4,
  "nbformat_minor": 0
}